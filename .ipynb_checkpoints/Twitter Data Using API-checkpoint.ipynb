{
 "cells": [
  {
   "cell_type": "code",
   "execution_count": 7,
   "id": "328d61e6-d971-4eeb-9be8-7d3558f7478f",
   "metadata": {},
   "outputs": [
    {
     "name": "stdout",
     "output_type": "stream",
     "text": [
      "Status Failed On, 403 Forbidden\n",
      "453 - You currently have access to a subset of X API V2 endpoints and limited v1.1 endpoints (e.g. media post, oauth) only. If you need access to this endpoint, you may need a different access level. You can learn more here: https://developer.x.com/en/portal/product\n"
     ]
    }
   ],
   "source": [
    "# import \n",
    "import tweepy\n",
    "import pandas as pd\n",
    "\n",
    "# Note: We are using X API v2, so commented v1 statements\n",
    "\n",
    "# Your Twitter API credentials (API v1)\n",
    "API_KEY = \"Q9Selo96pausHxXsyppqQgZqu\"\n",
    "API_SECRET = \"c0xD2Yabxc35NgSCZHs3jJUC3xr9q39SJpjDpFRSl5QfLapZqg\"\n",
    "ACCESS_TOKEN = \"1447411354659213312-ckNcxBYhBZm8PcooQqNV9Ep2O6m2Ap\" \n",
    "ACCESS_TOKEN_SECRET = \"4Qe18PaS09uJJ2db3fk2j6pG0l5XHKHTceeNGxEUWm86a\"\n",
    "\n",
    "\n",
    "# Authenticate (API v1)\n",
    "auth = tweepy.OAuth1UserHandler(\n",
    "    API_KEY,\n",
    "    API_SECRET,\n",
    "    ACCESS_TOKEN,\n",
    "    ACCESS_TOKEN_SECRET\n",
    ")\n",
    "\n",
    "api = tweepy.API(auth, wait_on_rate_limit=True) # 100 tweets might trigger rate-limiting errors. handling it with (wait_on_rate_limit=True).\n",
    "\n",
    "search_query = \"'Elon Musk' 'fired' -filter:retweets AND -filter:replies AND -filter:links\" # filter out/ remove retweets, replies, links\n",
    "no_of_tweets = 100\n",
    "\n",
    "try:\n",
    "    # search based on filter (v1)\n",
    "    tweets = api.search_tweets(q=search_query, lang=\"en\", count=no_of_tweets, tweet_mode = 'extended') # extend prevent or prevent truncated tweets\n",
    "\n",
    "    \n",
    "\n",
    "    # pulling attributes from the tweet (v1)\n",
    "    attributes_container = [[tweet.user.name, tweet.created_at, tweet.favorite_count, tweet.source, tweet.full_text] for tweet in tweets]\n",
    "\n",
    "    \n",
    "    # creating column list to rename the attribute in data frame\n",
    "    columns = [\"user\", \"Date Created\", \"Number of Linkes\", \"Source of Tweet\", \"Tweet\"]\n",
    "    \n",
    "    # Creation of DataFrame (using pandas), note: 'DataFrame' is a function\n",
    "    tweets_df = pd.DataFrame(attributes_container, columns=columns) # column of data frame renamed to columns list \n",
    "            \n",
    "\n",
    "except BaseException as e:\n",
    "    print('Status Failed On,' , str(e))"
   ]
  },
  {
   "cell_type": "markdown",
   "id": "d02d7ea4-248e-47fb-8b8f-67fe3de693ef",
   "metadata": {},
   "source": [
    "The error indicates that your current API credentials have limited access to Twitter API v1.1, which prevents you from using certain endpoints like search_tweets. Twitter has largely transitioned to API v2, and most endpoints from v1.1 are deprecated or require elevated permissions."
   ]
  },
  {
   "cell_type": "markdown",
   "id": "0f306d2a-c48a-4a58-abc0-9c7e3a3cf087",
   "metadata": {},
   "source": [
    "# Solution:\n",
    "Use Twitter API v2: Switch to API v2, which uses a different library or endpoint structure.\n",
    "Upgrade Access: Check your access level in the Twitter Developer Portal and apply for elevated permissions if needed."
   ]
  },
  {
   "cell_type": "code",
   "execution_count": 4,
   "id": "dab12841-97ee-493d-836c-f4ff56beafb0",
   "metadata": {},
   "outputs": [
    {
     "name": "stdout",
     "output_type": "stream",
     "text": [
      "An error occurred: 400 Bad Request\n",
      "There were errors processing your request: no viable alternative at character ''' (at position 1), no viable alternative at character ''' (at position 13)\n"
     ]
    }
   ],
   "source": [
    "import tweepy\n",
    "import pandas as pd\n",
    "\n",
    "# Your Twitter API credentials (API v2)\n",
    "BEARER_TOKEN = \"AAAAAAAAAAAAAAAAAAAAAAl6xQEAAAAAdVdNd0Co05ms0DYJHX06DbzFwo4%3DKe3BRSitWKJSFUQXCMzeukhRUKbqip54n9dAMTwT0vjceuMiDM\"\n",
    "\n",
    "# Authenticate using Tweepy Client (API v2)\n",
    "client = tweepy.Client(bearer_token=BEARER_TOKEN)\n",
    "\n",
    "search_query = \"'Elon Musk' 'fired' -is:retweet -has:links -is:reply\"  # Filter retweets, replies, and links\n",
    "no_of_tweets = 100\n",
    "\n",
    "try:\n",
    "    # Fetch tweets (API v2)\n",
    "    tweets = client.search_recent_tweets(\n",
    "        query=search_query,\n",
    "        tweet_fields=[\"created_at\", \"public_metrics\", \"source\"],\n",
    "        user_fields=[\"name\"],\n",
    "        expansions=[\"author_id\"],\n",
    "        max_results=no_of_tweets\n",
    "    )\n",
    "\n",
    "    # Extract relevant data\n",
    "    if tweets.data:\n",
    "        users = {u[\"id\"]: u for u in tweets.includes[\"users\"]}  # Map user IDs to user details\n",
    "        attributes_container = [\n",
    "            [\n",
    "                users[tweet.author_id].name,  # Username\n",
    "                tweet.created_at,            # Date created\n",
    "                tweet.public_metrics[\"like_count\"],  # Number of likes\n",
    "                tweet.source,                # Source\n",
    "                tweet.text                   # Tweet content\n",
    "            ]\n",
    "            for tweet in tweets.data\n",
    "        ]\n",
    "\n",
    "        # Define column names\n",
    "        columns = [\"User\", \"Date Created\", \"Number of Likes\", \"Source of Tweet\", \"Tweet\"]\n",
    "        \n",
    "        # Create DataFrame\n",
    "        tweets_df = pd.DataFrame(attributes_container, columns=columns)\n",
    "        print(tweets_df)\n",
    "    else:\n",
    "        print(\"No tweets found for the given query.\")\n",
    "\n",
    "except Exception as e:\n",
    "    print(\"An error occurred:\", str(e))\n"
   ]
  },
  {
   "cell_type": "markdown",
   "id": "2af6a47b-8fbb-40c5-b642-42b197b29b6b",
   "metadata": {},
   "source": [
    "The error indicates that there is an issue with the search query syntax in the search_recent_tweets method. Specifically, the single quotes (') within the query are being interpreted incorrectly by the API."
   ]
  },
  {
   "cell_type": "markdown",
   "id": "d041bb0c-98b3-43bb-b663-e3219a970109",
   "metadata": {},
   "source": [
    "# Fix:\n",
    "In the Twitter API v2, the search query should:\n",
    "\n",
    "Use double quotes (\") for phrases instead of single quotes (').\n",
    "Ensure all special characters are escaped properly."
   ]
  },
  {
   "cell_type": "code",
   "execution_count": 6,
   "id": "c5814ab8-6499-40d2-ae02-a3107e5760c4",
   "metadata": {},
   "outputs": [
    {
     "name": "stdout",
     "output_type": "stream",
     "text": [
      "An error occurred: 429 Too Many Requests\n",
      "Too Many Requests\n"
     ]
    }
   ],
   "source": [
    "import tweepy\n",
    "import pandas as pd\n",
    "\n",
    "# Your Twitter API credentials (API v2)\n",
    "BEARER_TOKEN = \"AAAAAAAAAAAAAAAAAAAAAAl6xQEAAAAAdVdNd0Co05ms0DYJHX06DbzFwo4%3DKe3BRSitWKJSFUQXCMzeukhRUKbqip54n9dAMTwT0vjceuMiDM\"\n",
    "\n",
    "# Authenticate using Tweepy Client (API v2)\n",
    "client = tweepy.Client(bearer_token=BEARER_TOKEN)\n",
    "\n",
    "# Corrected search query syntax\n",
    "search_query = \"\\\"Elon Musk\\\" \\\"fired\\\" -is:retweet -has:links -is:reply\"  # Double quotes for phrases\n",
    "\n",
    "no_of_tweets = 100\n",
    "\n",
    "try:\n",
    "    # Fetch tweets (API v2)\n",
    "    tweets = client.search_recent_tweets(\n",
    "        query=search_query,\n",
    "        tweet_fields=[\"created_at\", \"public_metrics\", \"source\"],\n",
    "        user_fields=[\"name\"],\n",
    "        expansions=[\"author_id\"],\n",
    "        max_results=no_of_tweets\n",
    "    )\n",
    "\n",
    "    # Extract relevant data\n",
    "    if tweets.data:\n",
    "        users = {u[\"id\"]: u for u in tweets.includes[\"users\"]}  # Map user IDs to user details\n",
    "        attributes_container = [\n",
    "            [\n",
    "                users[tweet.author_id].name,  # Username\n",
    "                tweet.created_at,            # Date created\n",
    "                tweet.public_metrics[\"like_count\"],  # Number of likes\n",
    "                tweet.source,                # Source\n",
    "                tweet.text                   # Tweet content\n",
    "            ]\n",
    "            for tweet in tweets.data\n",
    "        ]\n",
    "\n",
    "        # Define column names\n",
    "        columns = [\"User\", \"Date Created\", \"Number of Likes\", \"Source of Tweet\", \"Tweet\"]\n",
    "        \n",
    "        # Create DataFrame\n",
    "        tweets_df = pd.DataFrame(attributes_container, columns=columns)\n",
    "        print(tweets_df)\n",
    "    else:\n",
    "        print(\"No tweets found for the given query.\")\n",
    "\n",
    "except Exception as e:\n",
    "    print(\"An error occurred:\", str(e))\n"
   ]
  },
  {
   "cell_type": "markdown",
   "id": "a877f4c7-ee4c-4b7a-9675-66e01350f986",
   "metadata": {},
   "source": [
    "The error 429 Too Many Requests indicates that you have exceeded the rate limit for the Twitter API. The API imposes limits on how many requests can be made in a given time period.\n",
    "\n",
    "Causes:\n",
    "Too many requests were made in a short span of time.\n",
    "You reached the limit of tweets that can be fetched with the current query."
   ]
  },
  {
   "cell_type": "markdown",
   "id": "44e75c7f-6326-43dd-ba15-8ec5b02775b8",
   "metadata": {},
   "source": [
    "# Solutions:\n",
    "1. Use Rate Limiting Safely\n",
    "Reduce the number of requests or tweets per request by modifying `max_results`.\n",
    "2. Handle Rate Limit Exceeded Exception\n",
    "Wait and retry after the time specified in the `x-rate-limit-reset` header:\n",
    "3. Upgrade Your Twitter API Access\n",
    "If you're using a free tier, upgrade to Elevated access to get higher rate limits. Elevated access allows more requests per 15-minute window.\n",
    "4. Distribute Queries Over Time\n",
    "If you are running a script to fetch tweets frequently, introduce delays between requests using `time.sleep()`.\n",
    "5. Check Rate Limits Using API\n",
    "Use the `client.get_rate_limit_status()` to check your current limits:\n"
   ]
  },
  {
   "cell_type": "code",
   "execution_count": null,
   "id": "a81c6532-538b-4512-b5d8-7217010718c3",
   "metadata": {},
   "outputs": [
    {
     "name": "stdout",
     "output_type": "stream",
     "text": [
      "Rate limit exceeded. Waiting 15 minutes...\n",
      "Rate limit exceeded. Waiting 15 minutes...\n",
      "Rate limit exceeded. Waiting 15 minutes...\n",
      "Rate limit exceeded. Waiting 15 minutes...\n",
      "Rate limit exceeded. Waiting 15 minutes...\n",
      "Rate limit exceeded. Waiting 15 minutes...\n",
      "Rate limit exceeded. Waiting 15 minutes...\n",
      "Rate limit exceeded. Waiting 15 minutes...\n"
     ]
    }
   ],
   "source": [
    "import tweepy\n",
    "import pandas as pd\n",
    "import time\n",
    "\n",
    "# Your Twitter API credentials (API v2)\n",
    "BEARER_TOKEN = \"AAAAAAAAAAAAAAAAAAAAAAl6xQEAAAAAdVdNd0Co05ms0DYJHX06DbzFwo4%3DKe3BRSitWKJSFUQXCMzeukhRUKbqip54n9dAMTwT0vjceuMiDM\"\n",
    "\n",
    "# Authenticate using Tweepy Client (API v2)\n",
    "client = tweepy.Client(bearer_token=BEARER_TOKEN)\n",
    "\n",
    "# Corrected search query syntax\n",
    "search_query = \"\\\"Elon Musk\\\" \\\"fired\\\" -is:retweet -has:links -is:reply\"\n",
    "\n",
    "no_of_tweets = 10  # Fetch fewer tweets per request\n",
    "\n",
    "while True:\n",
    "    try:\n",
    "        # Fetch tweets\n",
    "        tweets = client.search_recent_tweets(\n",
    "            query=search_query,\n",
    "            tweet_fields=[\"created_at\", \"public_metrics\", \"source\"],\n",
    "            user_fields=[\"name\"],\n",
    "            expansions=[\"author_id\"],\n",
    "            max_results=no_of_tweets\n",
    "        )\n",
    "\n",
    "        if tweets.data:\n",
    "            users = {u[\"id\"]: u for u in tweets.includes[\"users\"]}\n",
    "            attributes_container = [\n",
    "                [\n",
    "                    users[tweet.author_id].name,\n",
    "                    tweet.created_at,\n",
    "                    tweet.public_metrics[\"like_count\"],\n",
    "                    tweet.source,\n",
    "                    tweet.text\n",
    "                ]\n",
    "                for tweet in tweets.data\n",
    "            ]\n",
    "\n",
    "            columns = [\"User\", \"Date Created\", \"Number of Likes\", \"Source of Tweet\", \"Tweet\"]\n",
    "            tweets_df = pd.DataFrame(attributes_container, columns=columns)\n",
    "            print(tweets_df)\n",
    "        else:\n",
    "            print(\"No tweets found for the given query.\")\n",
    "        break  # Exit loop after successful execution\n",
    "\n",
    "    except tweepy.TooManyRequests:\n",
    "        print(\"Rate limit exceeded. Waiting 15 minutes...\")\n",
    "        time.sleep(900)  # Sleep for 15 minutes\n",
    "    except Exception as e:\n",
    "        print(\"An error occurred:\", str(e))\n",
    "        break\n"
   ]
  },
  {
   "cell_type": "markdown",
   "id": "b0618640-44bd-48c7-8c9b-c3836fb1cf98",
   "metadata": {},
   "source": [
    "The message **\"Rate limit exceeded. Waiting 15 minutes...\"** is part of the retry logic in the script. The program is pausing for 15 minutes (`time.sleep(900)`) before making another API request to comply with the Twitter API's rate limits.\n",
    "\n",
    "##### Why the Wait?\n",
    "Twitter's rate limits for **search_recent_tweets** are tied to the user or app making the request. For example:\n",
    "- **Free tier**: Up to 450 requests per 15 minutes for the search endpoint.\n",
    "- Exceeding this limit leads to the **429 Too Many Requests** error.\n",
    "\n",
    "##### What Happens Now?\n",
    "- The script will wait for 15 minutes.\n",
    "- After the wait, it will retry the request automatically.\n",
    "- If the limit resets successfully, the script should fetch new data.\n",
    "\n",
    "##### How to Speed Up Development Without Waiting 15 Minutes\n",
    "1. **Test with Smaller Queries:**\n",
    "   - Modify the `search_query` to narrow results.\n",
    "   - Fetch fewer tweets using `max_results`.\n",
    "\n",
    "2. **Manual Testing:**\n",
    "   - Comment out the logic fetching tweets and manually simulate the data to work on other parts of your code (e.g., DataFrame creation).\n",
    "\n",
    "3. **Debug API Limits Directly:**\n",
    "   - Check rate limits using the API (if available):\n",
    "     ```python\n",
    "     rate_limit_status = client.get_rate_limit_status()\n",
    "     print(rate_limit_status)\n",
    "     ```\n",
    "\n",
    "4. **Upgrade to Elevated Access:**\n",
    "   - Apply for **Elevated Access** in the Twitter Developer portal to increase your rate limits."
   ]
  },
  {
   "cell_type": "code",
   "execution_count": null,
   "id": "14b2e70a-0797-402b-a955-c1e78944fbd0",
   "metadata": {},
   "outputs": [],
   "source": []
  }
 ],
 "metadata": {
  "kernelspec": {
   "display_name": "Python 3 (ipykernel)",
   "language": "python",
   "name": "python3"
  },
  "language_info": {
   "codemirror_mode": {
    "name": "ipython",
    "version": 3
   },
   "file_extension": ".py",
   "mimetype": "text/x-python",
   "name": "python",
   "nbconvert_exporter": "python",
   "pygments_lexer": "ipython3",
   "version": "3.12.4"
  }
 },
 "nbformat": 4,
 "nbformat_minor": 5
}
